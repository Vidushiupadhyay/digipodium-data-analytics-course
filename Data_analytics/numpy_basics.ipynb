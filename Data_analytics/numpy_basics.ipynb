{
 "cells": [
  {
   "cell_type": "code",
   "execution_count": 1,
   "metadata": {},
   "outputs": [],
   "source": [
    "import numpy as np"
   ]
  },
  {
   "cell_type": "code",
   "execution_count": 2,
   "metadata": {},
   "outputs": [
    {
     "name": "stdout",
     "output_type": "stream",
     "text": [
      "[1 2 3 4]\n"
     ]
    }
   ],
   "source": [
    "x = np.array([1,2,3,4])\n",
    "print(x)"
   ]
  },
  {
   "cell_type": "code",
   "execution_count": null,
   "metadata": {},
   "outputs": [],
   "source": []
  },
  {
   "cell_type": "code",
   "execution_count": 3,
   "metadata": {},
   "outputs": [
    {
     "name": "stdout",
     "output_type": "stream",
     "text": [
      "[-5.0000000e+00 -4.8000000e+00 -4.6000000e+00 -4.4000000e+00\n",
      " -4.2000000e+00 -4.0000000e+00 -3.8000000e+00 -3.6000000e+00\n",
      " -3.4000000e+00 -3.2000000e+00 -3.0000000e+00 -2.8000000e+00\n",
      " -2.6000000e+00 -2.4000000e+00 -2.2000000e+00 -2.0000000e+00\n",
      " -1.8000000e+00 -1.6000000e+00 -1.4000000e+00 -1.2000000e+00\n",
      " -1.0000000e+00 -8.0000000e-01 -6.0000000e-01 -4.0000000e-01\n",
      " -2.0000000e-01  4.4408921e-15  2.0000000e-01  4.0000000e-01\n",
      "  6.0000000e-01  8.0000000e-01  1.0000000e+00  1.2000000e+00\n",
      "  1.4000000e+00  1.6000000e+00  1.8000000e+00  2.0000000e+00\n",
      "  2.2000000e+00  2.4000000e+00  2.6000000e+00  2.8000000e+00\n",
      "  3.0000000e+00  3.2000000e+00  3.4000000e+00  3.6000000e+00\n",
      "  3.8000000e+00  4.0000000e+00  4.2000000e+00  4.4000000e+00\n",
      "  4.6000000e+00  4.8000000e+00  5.0000000e+00  5.2000000e+00\n",
      "  5.4000000e+00  5.6000000e+00  5.8000000e+00]\n",
      "(55,)\n",
      "55\n"
     ]
    }
   ],
   "source": [
    "a = np.arange(-5,6,.2)\n",
    "print(a)\n",
    "print(a.shape)\n",
    "print(a.size)"
   ]
  },
  {
   "cell_type": "code",
   "execution_count": 4,
   "metadata": {},
   "outputs": [
    {
     "name": "stdout",
     "output_type": "stream",
     "text": [
      "[ 1.          1.18367347  1.36734694  1.55102041  1.73469388  1.91836735\n",
      "  2.10204082  2.28571429  2.46938776  2.65306122  2.83673469  3.02040816\n",
      "  3.20408163  3.3877551   3.57142857  3.75510204  3.93877551  4.12244898\n",
      "  4.30612245  4.48979592  4.67346939  4.85714286  5.04081633  5.2244898\n",
      "  5.40816327  5.59183673  5.7755102   5.95918367  6.14285714  6.32653061\n",
      "  6.51020408  6.69387755  6.87755102  7.06122449  7.24489796  7.42857143\n",
      "  7.6122449   7.79591837  7.97959184  8.16326531  8.34693878  8.53061224\n",
      "  8.71428571  8.89795918  9.08163265  9.26530612  9.44897959  9.63265306\n",
      "  9.81632653 10.        ]\n"
     ]
    }
   ],
   "source": [
    "b = np.linspace(1,10,50)\n",
    "print(b)"
   ]
  },
  {
   "cell_type": "code",
   "execution_count": 5,
   "metadata": {},
   "outputs": [
    {
     "data": {
      "text/plain": [
       "array([[0.21386556, 0.96847205, 0.82702296],\n",
       "       [0.72476082, 0.75457376, 0.470178  ],\n",
       "       [0.39264198, 0.85169864, 0.24106658]])"
      ]
     },
     "execution_count": 5,
     "metadata": {},
     "output_type": "execute_result"
    }
   ],
   "source": [
    "c = np.random.random((3,3))\n",
    "c"
   ]
  },
  {
   "cell_type": "code",
   "execution_count": 6,
   "metadata": {},
   "outputs": [
    {
     "name": "stdout",
     "output_type": "stream",
     "text": [
      "[[0.70918293 0.49920308 0.49509604]\n",
      " [0.66997411 0.77078512 0.70319897]\n",
      " [0.4641264  0.60478365 0.34256267]]\n",
      "(3, 3)\n",
      "9\n"
     ]
    }
   ],
   "source": [
    "c = np.random.random((3,3))\n",
    "print(c)\n",
    "print(c.shape)\n",
    "print(c.size)"
   ]
  },
  {
   "cell_type": "code",
   "execution_count": 7,
   "metadata": {},
   "outputs": [
    {
     "name": "stdout",
     "output_type": "stream",
     "text": [
      "[[-0.70963858 -0.73341163 -0.45781693]\n",
      " [ 1.40178446 -0.98673438  1.46874391]\n",
      " [-0.97739444 -1.86554626  0.90978811]]\n",
      "(3, 3)\n",
      "9\n"
     ]
    }
   ],
   "source": [
    "d = np.random.randn(3,3)\n",
    "print(d)\n",
    "print(d.shape)\n",
    "print(d.size)"
   ]
  },
  {
   "cell_type": "code",
   "execution_count": 8,
   "metadata": {},
   "outputs": [
    {
     "name": "stdout",
     "output_type": "stream",
     "text": [
      "[[[92 96 91]\n",
      "  [98 99 94]\n",
      "  [98 98 93]]\n",
      "\n",
      " [[91 99 99]\n",
      "  [98 94 91]\n",
      "  [93 98 94]]\n",
      "\n",
      " [[98 94 93]\n",
      "  [96 98 96]\n",
      "  [95 96 95]]]\n",
      "(3, 3, 3)\n",
      "27\n"
     ]
    }
   ],
   "source": [
    "e = np.random.randint(90,100, (3,3,3))\n",
    "print(e)\n",
    "print(e.shape)\n",
    "print(e.size)"
   ]
  },
  {
   "cell_type": "code",
   "execution_count": 9,
   "metadata": {},
   "outputs": [
    {
     "name": "stdout",
     "output_type": "stream",
     "text": [
      "(90,)\n"
     ]
    }
   ],
   "source": [
    "f = np.linspace(1,100,90)\n",
    "print(f.shape)"
   ]
  },
  {
   "cell_type": "code",
   "execution_count": 10,
   "metadata": {},
   "outputs": [
    {
     "name": "stdout",
     "output_type": "stream",
     "text": [
      "(45, 2)\n",
      "[[  1.           2.11235955]\n",
      " [  3.2247191    4.33707865]\n",
      " [  5.4494382    6.56179775]\n",
      " [  7.6741573    8.78651685]\n",
      " [  9.8988764   11.01123596]\n",
      " [ 12.12359551  13.23595506]\n",
      " [ 14.34831461  15.46067416]\n",
      " [ 16.57303371  17.68539326]\n",
      " [ 18.79775281  19.91011236]\n",
      " [ 21.02247191  22.13483146]\n",
      " [ 23.24719101  24.35955056]\n",
      " [ 25.47191011  26.58426966]\n",
      " [ 27.69662921  28.80898876]\n",
      " [ 29.92134831  31.03370787]\n",
      " [ 32.14606742  33.25842697]\n",
      " [ 34.37078652  35.48314607]\n",
      " [ 36.59550562  37.70786517]\n",
      " [ 38.82022472  39.93258427]\n",
      " [ 41.04494382  42.15730337]\n",
      " [ 43.26966292  44.38202247]\n",
      " [ 45.49438202  46.60674157]\n",
      " [ 47.71910112  48.83146067]\n",
      " [ 49.94382022  51.05617978]\n",
      " [ 52.16853933  53.28089888]\n",
      " [ 54.39325843  55.50561798]\n",
      " [ 56.61797753  57.73033708]\n",
      " [ 58.84269663  59.95505618]\n",
      " [ 61.06741573  62.17977528]\n",
      " [ 63.29213483  64.40449438]\n",
      " [ 65.51685393  66.62921348]\n",
      " [ 67.74157303  68.85393258]\n",
      " [ 69.96629213  71.07865169]\n",
      " [ 72.19101124  73.30337079]\n",
      " [ 74.41573034  75.52808989]\n",
      " [ 76.64044944  77.75280899]\n",
      " [ 78.86516854  79.97752809]\n",
      " [ 81.08988764  82.20224719]\n",
      " [ 83.31460674  84.42696629]\n",
      " [ 85.53932584  86.65168539]\n",
      " [ 87.76404494  88.87640449]\n",
      " [ 89.98876404  91.1011236 ]\n",
      " [ 92.21348315  93.3258427 ]\n",
      " [ 94.43820225  95.5505618 ]\n",
      " [ 96.66292135  97.7752809 ]\n",
      " [ 98.88764045 100.        ]]\n"
     ]
    }
   ],
   "source": [
    "f2 = f.reshape(45,2)\n",
    "print(f2.shape)\n",
    "print(f2)"
   ]
  },
  {
   "cell_type": "code",
   "execution_count": 11,
   "metadata": {},
   "outputs": [
    {
     "name": "stdout",
     "output_type": "stream",
     "text": [
      "(15, 3, 2)\n",
      "[[[  1.           2.11235955]\n",
      "  [  3.2247191    4.33707865]\n",
      "  [  5.4494382    6.56179775]]\n",
      "\n",
      " [[  7.6741573    8.78651685]\n",
      "  [  9.8988764   11.01123596]\n",
      "  [ 12.12359551  13.23595506]]\n",
      "\n",
      " [[ 14.34831461  15.46067416]\n",
      "  [ 16.57303371  17.68539326]\n",
      "  [ 18.79775281  19.91011236]]\n",
      "\n",
      " [[ 21.02247191  22.13483146]\n",
      "  [ 23.24719101  24.35955056]\n",
      "  [ 25.47191011  26.58426966]]\n",
      "\n",
      " [[ 27.69662921  28.80898876]\n",
      "  [ 29.92134831  31.03370787]\n",
      "  [ 32.14606742  33.25842697]]\n",
      "\n",
      " [[ 34.37078652  35.48314607]\n",
      "  [ 36.59550562  37.70786517]\n",
      "  [ 38.82022472  39.93258427]]\n",
      "\n",
      " [[ 41.04494382  42.15730337]\n",
      "  [ 43.26966292  44.38202247]\n",
      "  [ 45.49438202  46.60674157]]\n",
      "\n",
      " [[ 47.71910112  48.83146067]\n",
      "  [ 49.94382022  51.05617978]\n",
      "  [ 52.16853933  53.28089888]]\n",
      "\n",
      " [[ 54.39325843  55.50561798]\n",
      "  [ 56.61797753  57.73033708]\n",
      "  [ 58.84269663  59.95505618]]\n",
      "\n",
      " [[ 61.06741573  62.17977528]\n",
      "  [ 63.29213483  64.40449438]\n",
      "  [ 65.51685393  66.62921348]]\n",
      "\n",
      " [[ 67.74157303  68.85393258]\n",
      "  [ 69.96629213  71.07865169]\n",
      "  [ 72.19101124  73.30337079]]\n",
      "\n",
      " [[ 74.41573034  75.52808989]\n",
      "  [ 76.64044944  77.75280899]\n",
      "  [ 78.86516854  79.97752809]]\n",
      "\n",
      " [[ 81.08988764  82.20224719]\n",
      "  [ 83.31460674  84.42696629]\n",
      "  [ 85.53932584  86.65168539]]\n",
      "\n",
      " [[ 87.76404494  88.87640449]\n",
      "  [ 89.98876404  91.1011236 ]\n",
      "  [ 92.21348315  93.3258427 ]]\n",
      "\n",
      " [[ 94.43820225  95.5505618 ]\n",
      "  [ 96.66292135  97.7752809 ]\n",
      "  [ 98.88764045 100.        ]]]\n"
     ]
    }
   ],
   "source": [
    "f3 = f.reshape(15,3,2)\n",
    "print(f3.shape)\n",
    "print(f3)"
   ]
  },
  {
   "cell_type": "code",
   "execution_count": 12,
   "metadata": {},
   "outputs": [
    {
     "name": "stdout",
     "output_type": "stream",
     "text": [
      "[[6 8 6]\n",
      " [3 4 1]\n",
      " [6 6 3]]\n",
      "\n",
      "[[6 2 5]\n",
      " [4 2 4]\n",
      " [8 3 6]]\n"
     ]
    }
   ],
   "source": [
    "x = np.random.randint(1,10,(3,3,))\n",
    "y = np.random.randint(1,10,(3,3,))\n",
    "print(x)\n",
    "print()\n",
    "print(y)"
   ]
  },
  {
   "cell_type": "code",
   "execution_count": 13,
   "metadata": {},
   "outputs": [
    {
     "data": {
      "text/plain": [
       "array([[12, 10, 11],\n",
       "       [ 7,  6,  5],\n",
       "       [14,  9,  9]])"
      ]
     },
     "execution_count": 13,
     "metadata": {},
     "output_type": "execute_result"
    }
   ],
   "source": [
    "x + y             #element wise addition"
   ]
  },
  {
   "cell_type": "code",
   "execution_count": 14,
   "metadata": {},
   "outputs": [
    {
     "data": {
      "text/plain": [
       "array([[ 0,  6,  1],\n",
       "       [-1,  2, -3],\n",
       "       [-2,  3, -3]])"
      ]
     },
     "execution_count": 14,
     "metadata": {},
     "output_type": "execute_result"
    }
   ],
   "source": [
    "x - y             #element wise subtraction"
   ]
  },
  {
   "cell_type": "code",
   "execution_count": 15,
   "metadata": {},
   "outputs": [
    {
     "name": "stdout",
     "output_type": "stream",
     "text": [
      "[[36 16 30]\n",
      " [12  8  4]\n",
      " [48 18 18]]\n",
      "[[1.   4.   1.2 ]\n",
      " [0.75 2.   0.25]\n",
      " [0.75 2.   0.5 ]]\n",
      "[[1 4 1]\n",
      " [0 2 0]\n",
      " [0 2 0]]\n",
      "[[0 0 1]\n",
      " [3 0 1]\n",
      " [6 0 3]]\n",
      "[[  46656      64    7776]\n",
      " [     81      16       1]\n",
      " [1679616     216     729]]\n"
     ]
    }
   ],
   "source": [
    "print(x*y)                #element wise multiplication\n",
    "print(x/y)                #element wise division\n",
    "print(x//y)                #element wise floor division\n",
    "print(x%y)                #element wise modulus\n",
    "print(x**y)                #element wise exponentiation"
   ]
  },
  {
   "cell_type": "code",
   "execution_count": 16,
   "metadata": {},
   "outputs": [
    {
     "name": "stdout",
     "output_type": "stream",
     "text": [
      "[[116  46  98]\n",
      " [ 42  17  37]\n",
      " [ 84  33  72]]\n",
      "[[116  46  98]\n",
      " [ 42  17  37]\n",
      " [ 84  33  72]]\n",
      "[[ 28   6 -36]\n",
      " [ 14  -8 -10]\n",
      " [ 27 -12 -30]]\n",
      "[[116  46  98]\n",
      " [ 42  17  37]\n",
      " [ 84  33  72]]\n"
     ]
    }
   ],
   "source": [
    "print(np.dot(x,y))      #dot product\n",
    "print(x.dot(y))         #same dot product\n",
    "print(np.cross(x,y))    #cross product\n",
    "print(np.matmul(x,y))   #matrix multiplication"
   ]
  },
  {
   "cell_type": "code",
   "execution_count": 17,
   "metadata": {},
   "outputs": [
    {
     "name": "stdout",
     "output_type": "stream",
     "text": [
      "43\n",
      "[15 18 10]\n",
      "[20  8 15]\n",
      "4.777777777777778\n",
      "[5.         6.         3.33333333]\n",
      "[6.66666667 2.66666667 5.        ]\n",
      "2.042752923427804\n",
      "[1.41421356 1.63299316 2.05480467]\n",
      "[0.94280904 1.24721913 1.41421356]\n",
      "6.0\n",
      "[6. 6. 3.]\n",
      "[6. 3. 6.]\n"
     ]
    }
   ],
   "source": [
    "print(x.sum())       # sum of all elements\n",
    "print(x.sum(axis=0))       # sum of each column\n",
    "print(x.sum(axis=1))       # sum of each row\n",
    "print(x.mean())       # mean of all elements\n",
    "print(x.mean(axis=0))       # mean of each column\n",
    "print(x.mean(axis=1))       # mean of each row\n",
    "print(x.std())       # standard deviation of all elements\n",
    "print(x.std(axis=0))       # standard deviation of each column\n",
    "print(x.std(axis=1))       # standard deviation of each row\n",
    "print(np.median(x))       # median of all elements\n",
    "print(np.median(x, axis=0))       # median of each column\n",
    "print(np.median(x, axis=1))       # median of each row"
   ]
  },
  {
   "cell_type": "code",
   "execution_count": 18,
   "metadata": {},
   "outputs": [],
   "source": [
    "import matplotlib.pyplot as plt"
   ]
  },
  {
   "cell_type": "code",
   "execution_count": 19,
   "metadata": {},
   "outputs": [
    {
     "data": {
      "text/plain": [
       "[<matplotlib.lines.Line2D at 0x26941502130>]"
      ]
     },
     "execution_count": 19,
     "metadata": {},
     "output_type": "execute_result"
    },
    {
     "data": {
      "image/png": "[encoded data removed]",
      "text/plain": [
       "<Figure size 640x480 with 1 Axes>"
      ]
     },
     "metadata": {},
     "output_type": "display_data"
    }
   ],
   "source": [
    "t = np.linspace(0, 4*np.pi, 100)\n",
    "y = np.sin(t)\n",
    "plt.plot(t,y)"
   ]
  },
  {
   "cell_type": "code",
   "execution_count": 20,
   "metadata": {},
   "outputs": [
    {
     "data": {
      "image/png": "[encoded data removed]",
      "text/plain": [
       "<Figure size 640x480 with 1 Axes>"
      ]
     },
     "metadata": {},
     "output_type": "display_data"
    }
   ],
   "source": [
    "t = np.linspace(0, 4*np.pi, 100)\n",
    "y = np.sin(t)\n",
    "x = np.cos(t)\n",
    "plt.plot(t,y)\n",
    "plt.plot(t,x, 'ro')\n",
    "plt.show()"
   ]
  },
  {
   "cell_type": "code",
   "execution_count": 21,
   "metadata": {},
   "outputs": [
    {
     "data": {
      "text/plain": [
       "<BarContainer object of 12 artists>"
      ]
     },
     "execution_count": 21,
     "metadata": {},
     "output_type": "execute_result"
    },
    {
     "data": {
      "image/png": "[encoded data removed]",
      "text/plain": [
       "<Figure size 640x480 with 1 Axes>"
      ]
     },
     "metadata": {},
     "output_type": "display_data"
    }
   ],
   "source": [
    "rainfall = [20,30,40,50,60,70,80,90,100,110,120,130]\n",
    "months = ['Jan','Feb','Mar','Apr','May','Jun','Jul','Aug','Sep','Oct','Nov','Dec']\n",
    "plt.bar(months,rainfall)"
   ]
  },
  {
   "cell_type": "markdown",
   "metadata": {},
   "source": [
    "# BOOLEAN FILTERING"
   ]
  },
  {
   "cell_type": "code",
   "execution_count": 22,
   "metadata": {},
   "outputs": [
    {
     "name": "stdout",
     "output_type": "stream",
     "text": [
      "[[416 441 660  25 204]\n",
      " [990 707  69  71 738]\n",
      " [263 823 796 946 639]\n",
      " [201 187 520 255 666]\n",
      " [209 799 181 902 430]]\n"
     ]
    }
   ],
   "source": [
    "data = np.random.randint(1,1000,(5,5))\n",
    "print(data)"
   ]
  },
  {
   "cell_type": "code",
   "execution_count": 23,
   "metadata": {},
   "outputs": [
    {
     "name": "stdout",
     "output_type": "stream",
     "text": [
      "row [416 441 660  25 204]\n",
      "row [990 707  69  71 738]\n",
      "row [263 823 796 946 639]\n",
      "row [201 187 520 255 666]\n",
      "row [209 799 181 902 430]\n"
     ]
    }
   ],
   "source": [
    "for i in data:\n",
    "    print(\"row\",i)"
   ]
  },
  {
   "cell_type": "code",
   "execution_count": 26,
   "metadata": {},
   "outputs": [
    {
     "name": "stdout",
     "output_type": "stream",
     "text": [
      "416 441 25 204 69 71 263 201 187 255 209 181 430 "
     ]
    }
   ],
   "source": [
    "# noob way for getting the filtered data\n",
    "for i in data:\n",
    "    for j in i:\n",
    "        if j <500:\n",
    "            print(j,end=' ')"
   ]
  },
  {
   "cell_type": "code",
   "execution_count": 27,
   "metadata": {},
   "outputs": [
    {
     "data": {
      "text/plain": [
       "array([[ True,  True, False,  True,  True],\n",
       "       [False, False,  True,  True, False],\n",
       "       [ True, False, False, False, False],\n",
       "       [ True,  True, False,  True, False],\n",
       "       [ True, False,  True, False,  True]])"
      ]
     },
     "execution_count": 27,
     "metadata": {},
     "output_type": "execute_result"
    }
   ],
   "source": [
    "# pythonic way\n",
    "data<500 #boolean array"
   ]
  },
  {
   "cell_type": "code",
   "execution_count": 28,
   "metadata": {},
   "outputs": [
    {
     "data": {
      "text/plain": [
       "array([416, 441,  25, 204,  69,  71, 263, 201, 187, 255, 209, 181, 430])"
      ]
     },
     "execution_count": 28,
     "metadata": {},
     "output_type": "execute_result"
    }
   ],
   "source": [
    "data [data<500]"
   ]
  },
  {
   "cell_type": "code",
   "execution_count": 29,
   "metadata": {},
   "outputs": [
    {
     "data": {
      "text/plain": [
       "array([660,  25, 990, 707,  69,  71, 738, 823, 796, 946, 639, 520, 666,\n",
       "       799, 902])"
      ]
     },
     "execution_count": 29,
     "metadata": {},
     "output_type": "execute_result"
    }
   ],
   "source": [
    "data [(data<100) | (data>500)]"
   ]
  },
  {
   "cell_type": "code",
   "execution_count": 30,
   "metadata": {},
   "outputs": [
    {
     "data": {
      "text/plain": [
       "array([[416, 441, 660,  25, 204],\n",
       "       [990, 707,  69,  71, 738],\n",
       "       [263, 823, 796, 946, 639],\n",
       "       [201, 187, 520, 255, 666],\n",
       "       [209, 799, 181, 902, 430]])"
      ]
     },
     "execution_count": 30,
     "metadata": {},
     "output_type": "execute_result"
    }
   ],
   "source": [
    "data"
   ]
  },
  {
   "cell_type": "code",
   "execution_count": 32,
   "metadata": {},
   "outputs": [
    {
     "name": "stdout",
     "output_type": "stream",
     "text": [
      "[[469 293 962 425 138 633  43  24]\n",
      " [718 943 720 653 330 981 362 969]\n",
      " [979 252 107  40  63 513 340 396]\n",
      " [875 394 450 193 711 215 597 834]\n",
      " [316 747 197 191 526 482 968 862]\n",
      " [151 576 158 756 873 491 384 644]\n",
      " [143 267  42  93 377 893 768 451]\n",
      " [850 660  57 764 613 522 329  21]]\n"
     ]
    }
   ],
   "source": [
    "# matrix of 8 by 8\n",
    "x = np.random.randint(1,1000,(8,8))\n",
    "print(x)"
   ]
  },
  {
   "cell_type": "code",
   "execution_count": 34,
   "metadata": {},
   "outputs": [
    {
     "data": {
      "text/plain": [
       "array([[469, 293, 962, 425, 138],\n",
       "       [718, 943, 720, 653, 330],\n",
       "       [979, 252, 107,  40,  63],\n",
       "       [875, 394, 450, 193, 711],\n",
       "       [316, 747, 197, 191, 526]])"
      ]
     },
     "execution_count": 34,
     "metadata": {},
     "output_type": "execute_result"
    }
   ],
   "source": [
    "x[0:5,0:5]               # not pythonic"
   ]
  },
  {
   "cell_type": "code",
   "execution_count": 47,
   "metadata": {},
   "outputs": [
    {
     "data": {
      "text/plain": [
       "array([[469, 293, 962, 425, 138],\n",
       "       [718, 943, 720, 653, 330],\n",
       "       [979, 252, 107,  40,  63],\n",
       "       [875, 394, 450, 193, 711],\n",
       "       [316, 747, 197, 191, 526]])"
      ]
     },
     "execution_count": 47,
     "metadata": {},
     "output_type": "execute_result"
    }
   ],
   "source": [
    "x[:5,:5]               # pythonic                     # ques:- 5 rows and 5 columns"
   ]
  },
  {
   "cell_type": "code",
   "execution_count": 38,
   "metadata": {},
   "outputs": [
    {
     "data": {
      "text/plain": [
       "array([[425,  43,  24],\n",
       "       [653, 362, 969],\n",
       "       [ 40, 340, 396],\n",
       "       [193, 597, 834],\n",
       "       [191, 968, 862],\n",
       "       [756, 384, 644],\n",
       "       [ 93, 768, 451],\n",
       "       [764, 329,  21]])"
      ]
     },
     "execution_count": 38,
     "metadata": {},
     "output_type": "execute_result"
    }
   ],
   "source": [
    "x[:,[3,6,7]]               # ques:- all rows and columnn 3,6,7"
   ]
  },
  {
   "cell_type": "code",
   "execution_count": 41,
   "metadata": {},
   "outputs": [
    {
     "data": {
      "text/plain": [
       "array([[107,  40,  63, 513],\n",
       "       [450, 193, 711, 215],\n",
       "       [197, 191, 526, 482],\n",
       "       [158, 756, 873, 491]])"
      ]
     },
     "execution_count": 41,
     "metadata": {},
     "output_type": "execute_result"
    }
   ],
   "source": [
    "x[2:-2,2:-2]               # ques:- centre rows and columns"
   ]
  },
  {
   "cell_type": "code",
   "execution_count": 46,
   "metadata": {},
   "outputs": [
    {
     "data": {
      "text/plain": [
       "array([[469, 293, 962, 425, 138, 633,  43],\n",
       "       [718, 943, 720, 653, 330, 981, 362],\n",
       "       [979, 252, 107,  40,  63, 513, 340],\n",
       "       [875, 394, 450, 193, 711, 215, 597],\n",
       "       [316, 747, 197, 191, 526, 482, 968],\n",
       "       [151, 576, 158, 756, 873, 491, 384],\n",
       "       [143, 267,  42,  93, 377, 893, 768],\n",
       "       [850, 660,  57, 764, 613, 522, 329]])"
      ]
     },
     "execution_count": 46,
     "metadata": {},
     "output_type": "execute_result"
    }
   ],
   "source": [
    "x[:,:-1]                         # ques:- everything except right side last column columns"
   ]
  },
  {
   "cell_type": "code",
   "execution_count": null,
   "metadata": {},
   "outputs": [],
   "source": []
  }
 ],
 "metadata": {
  "kernelspec": {
   "display_name": "Python 3.9.12 ('base')",
   "language": "python",
   "name": "python3"
  },
  "language_info": {
   "codemirror_mode": {
    "name": "ipython",
    "version": 3
   },
   "file_extension": ".py",
   "mimetype": "text/x-python",
   "name": "python",
   "nbconvert_exporter": "python",
   "pygments_lexer": "ipython3",
   "version": "3.9.12 (main, Apr  4 2022, 05:22:27) [MSC v.1916 64 bit (AMD64)]"
  },
  "orig_nbformat": 4,
  "vscode": {
   "interpreter": {
    "hash": "5b6002d1e928962cd19dde4287e8a81266a3dfa22c12012df96bb19a6e27b9c0"
   }
  }
 },
 "nbformat": 4,
 "nbformat_minor": 2
}
