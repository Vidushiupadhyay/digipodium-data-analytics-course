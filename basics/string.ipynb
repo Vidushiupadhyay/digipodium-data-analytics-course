{
 "cells": [
  {
   "cell_type": "code",
   "execution_count": 5,
   "metadata": {},
   "outputs": [
    {
     "name": "stdout",
     "output_type": "stream",
     "text": [
      "16\n"
     ]
    }
   ],
   "source": [
    "name = 'VIDUSHI UPADHYAY'\n",
    "print(len(name))"
   ]
  },
  {
   "cell_type": "code",
   "execution_count": 6,
   "metadata": {},
   "outputs": [
    {
     "name": "stdout",
     "output_type": "stream",
     "text": [
      "0 V\n",
      "1 I\n",
      "2 D\n",
      "3 U\n",
      "4 S\n",
      "5 H\n",
      "6 I\n",
      "7  \n",
      "8 U\n",
      "9 P\n",
      "10 A\n",
      "11 D\n",
      "12 H\n",
      "13 Y\n",
      "14 A\n",
      "15 Y\n"
     ]
    }
   ],
   "source": [
    "for idx,char in enumerate(name):\n",
    "    print(idx,char)"
   ]
  },
  {
   "cell_type": "code",
   "execution_count": 11,
   "metadata": {},
   "outputs": [
    {
     "name": "stdout",
     "output_type": "stream",
     "text": [
      " UPADH\n"
     ]
    }
   ],
   "source": [
    "print(name[7:13])"
   ]
  },
  {
   "cell_type": "code",
   "execution_count": 12,
   "metadata": {},
   "outputs": [
    {
     "name": "stdout",
     "output_type": "stream",
     "text": [
      "DHYA\n"
     ]
    }
   ],
   "source": [
    "print(name[-5:-1])"
   ]
  },
  {
   "cell_type": "code",
   "execution_count": 13,
   "metadata": {},
   "outputs": [
    {
     "name": "stdout",
     "output_type": "stream",
     "text": [
      "VIDUSHI\n"
     ]
    }
   ],
   "source": [
    "print(name[0:7])"
   ]
  },
  {
   "cell_type": "code",
   "execution_count": 14,
   "metadata": {},
   "outputs": [
    {
     "name": "stdout",
     "output_type": "stream",
     "text": [
      "VIDUSHI\n"
     ]
    }
   ],
   "source": [
    "print(name[:7])"
   ]
  },
  {
   "cell_type": "code",
   "execution_count": 16,
   "metadata": {},
   "outputs": [
    {
     "name": "stdout",
     "output_type": "stream",
     "text": [
      "UPADHYAY\n"
     ]
    }
   ],
   "source": [
    "print(name[8:])"
   ]
  },
  {
   "cell_type": "markdown",
   "metadata": {},
   "source": [
    "var[start:stop:step]"
   ]
  },
  {
   "cell_type": "code",
   "execution_count": 17,
   "metadata": {},
   "outputs": [
    {
     "name": "stdout",
     "output_type": "stream",
     "text": [
      "VDSIUAHA\n"
     ]
    }
   ],
   "source": [
    "# all the even index characters of string\n",
    "print(name[::2])"
   ]
  },
  {
   "cell_type": "code",
   "execution_count": 18,
   "metadata": {},
   "outputs": [
    {
     "name": "stdout",
     "output_type": "stream",
     "text": [
      "UIPHY\n"
     ]
    }
   ],
   "source": [
    "print(name[3::3])"
   ]
  },
  {
   "cell_type": "code",
   "execution_count": 19,
   "metadata": {},
   "outputs": [
    {
     "name": "stdout",
     "output_type": "stream",
     "text": [
      "IUH PDYY\n"
     ]
    }
   ],
   "source": [
    "# odd indexed characters\n",
    "print(name[1::2])"
   ]
  },
  {
   "cell_type": "code",
   "execution_count": 20,
   "metadata": {},
   "outputs": [
    {
     "name": "stdout",
     "output_type": "stream",
     "text": [
      "YAYHDAPU IHSUDIV\n"
     ]
    }
   ],
   "source": [
    "# reverse the string\n",
    "print(name[::-1])"
   ]
  },
  {
   "cell_type": "code",
   "execution_count": 21,
   "metadata": {},
   "outputs": [
    {
     "name": "stdout",
     "output_type": "stream",
     "text": [
      "AHAUISDV\n"
     ]
    }
   ],
   "source": [
    "print(name[-2::-2])"
   ]
  },
  {
   "cell_type": "code",
   "execution_count": 22,
   "metadata": {},
   "outputs": [
    {
     "name": "stdout",
     "output_type": "stream",
     "text": [
      "DV\n"
     ]
    }
   ],
   "source": [
    "print(name[2::-2])"
   ]
  },
  {
   "cell_type": "code",
   "execution_count": 25,
   "metadata": {},
   "outputs": [
    {
     "name": "stdout",
     "output_type": "stream",
     "text": [
      "Race\n"
     ]
    }
   ],
   "source": [
    "word = \"Racecar\"\n",
    "print(word[:-3])"
   ]
  },
  {
   "cell_type": "code",
   "execution_count": 26,
   "metadata": {},
   "outputs": [
    {
     "name": "stdout",
     "output_type": "stream",
     "text": [
      "Race\n"
     ]
    }
   ],
   "source": [
    "print(word[:-3])"
   ]
  },
  {
   "cell_type": "code",
   "execution_count": 27,
   "metadata": {},
   "outputs": [
    {
     "data": {
      "text/plain": [
       "';'"
      ]
     },
     "execution_count": 27,
     "metadata": {},
     "output_type": "execute_result"
    }
   ],
   "source": [
    "chr(59)"
   ]
  },
  {
   "cell_type": "code",
   "execution_count": 28,
   "metadata": {},
   "outputs": [
    {
     "name": "stdout",
     "output_type": "stream",
     "text": [
      "牵\n"
     ]
    }
   ],
   "source": [
    "print(chr(29301))"
   ]
  },
  {
   "cell_type": "code",
   "execution_count": 29,
   "metadata": {},
   "outputs": [
    {
     "data": {
      "text/plain": [
       "65"
      ]
     },
     "execution_count": 29,
     "metadata": {},
     "output_type": "execute_result"
    }
   ],
   "source": [
    "ord('A')"
   ]
  },
  {
   "cell_type": "code",
   "execution_count": 30,
   "metadata": {},
   "outputs": [
    {
     "data": {
      "text/plain": [
       "97"
      ]
     },
     "execution_count": 30,
     "metadata": {},
     "output_type": "execute_result"
    }
   ],
   "source": [
    "ord('a')"
   ]
  },
  {
   "cell_type": "code",
   "execution_count": 31,
   "metadata": {},
   "outputs": [
    {
     "data": {
      "text/plain": [
       "32"
      ]
     },
     "execution_count": 31,
     "metadata": {},
     "output_type": "execute_result"
    }
   ],
   "source": [
    "ord(' ')"
   ]
  },
  {
   "cell_type": "code",
   "execution_count": 32,
   "metadata": {},
   "outputs": [
    {
     "name": "stdout",
     "output_type": "stream",
     "text": [
      "applejuice\n"
     ]
    }
   ],
   "source": [
    "a = 'apple'\n",
    "b = 'juice'\n",
    "ab = a+b\n",
    "print(ab)"
   ]
  },
  {
   "cell_type": "code",
   "execution_count": 33,
   "metadata": {},
   "outputs": [
    {
     "name": "stdout",
     "output_type": "stream",
     "text": [
      "thisisamazing\n"
     ]
    }
   ],
   "source": [
    "w1 = 'this'\n",
    "w2 = 'is'\n",
    "w3 = 'amazing'\n",
    "msg = w1 + w2 + w3\n",
    "print(msg)"
   ]
  },
  {
   "cell_type": "code",
   "execution_count": 34,
   "metadata": {},
   "outputs": [
    {
     "name": "stdout",
     "output_type": "stream",
     "text": [
      "this is amazing \n"
     ]
    }
   ],
   "source": [
    "#adding space to string\n",
    "w1 = 'this'\n",
    "w2 = 'is'\n",
    "w3 = 'amazing'\n",
    "msg = w1 + ' '+ w2 + ' ' + w3 + ' '\n",
    "print(msg)"
   ]
  },
  {
   "cell_type": "code",
   "execution_count": 35,
   "metadata": {},
   "outputs": [
    {
     "name": "stdout",
     "output_type": "stream",
     "text": [
      "hi\n"
     ]
    }
   ],
   "source": [
    "word = 'hi'\n",
    "print(word)"
   ]
  },
  {
   "cell_type": "code",
   "execution_count": 37,
   "metadata": {},
   "outputs": [
    {
     "name": "stdout",
     "output_type": "stream",
     "text": [
      "-------------------------\n"
     ]
    }
   ],
   "source": [
    "print('-'*25)"
   ]
  },
  {
   "cell_type": "markdown",
   "metadata": {},
   "source": []
  },
  {
   "cell_type": "code",
   "execution_count": 41,
   "metadata": {},
   "outputs": [
    {
     "name": "stdout",
     "output_type": "stream",
     "text": [
      "------------------------------\n",
      "  journey before destination  \n",
      "------------------------------\n"
     ]
    }
   ],
   "source": [
    "print('---' * 10)\n",
    "print('journey before destination'.center(30))\n",
    "print('---' * 10)"
   ]
  },
  {
   "cell_type": "code",
   "execution_count": 42,
   "metadata": {},
   "outputs": [
    {
     "name": "stdout",
     "output_type": "stream",
     "text": [
      " * \n",
      " *  * \n",
      " *  *  * \n",
      " *  *  *  * \n",
      " *  *  *  *  * \n"
     ]
    }
   ],
   "source": [
    "for i in range(1,6):\n",
    "    print(i * ' * ')"
   ]
  },
  {
   "cell_type": "code",
   "execution_count": 44,
   "metadata": {},
   "outputs": [
    {
     "name": "stdout",
     "output_type": "stream",
     "text": [
      "                      *                      \n",
      "                     *  *                    \n",
      "                   *  *  *                   \n",
      "                  *  *  *  *                 \n",
      "                *  *  *  *  *                \n",
      "               *  *  *  *  *  *              \n",
      "             *  *  *  *  *  *  *             \n",
      "            *  *  *  *  *  *  *  *           \n",
      "          *  *  *  *  *  *  *  *  *          \n",
      "         *  *  *  *  *  *  *  *  *  *        \n",
      "       *  *  *  *  *  *  *  *  *  *  *       \n",
      "      *  *  *  *  *  *  *  *  *  *  *  *     \n",
      "    *  *  *  *  *  *  *  *  *  *  *  *  *    \n",
      "   *  *  *  *  *  *  *  *  *  *  *  *  *  *  \n"
     ]
    }
   ],
   "source": [
    "for i in range(1,15):\n",
    "    print((i * ' * ').center(45))"
   ]
  },
  {
   "cell_type": "code",
   "execution_count": 45,
   "metadata": {},
   "outputs": [
    {
     "name": "stdout",
     "output_type": "stream",
     "text": [
      "##################### * #####################\n",
      "#################### *  * ###################\n",
      "################## *  *  * ##################\n",
      "################# *  *  *  * ################\n",
      "############### *  *  *  *  * ###############\n",
      "############## *  *  *  *  *  * #############\n",
      "############ *  *  *  *  *  *  * ############\n",
      "########### *  *  *  *  *  *  *  * ##########\n",
      "######### *  *  *  *  *  *  *  *  * #########\n",
      "######## *  *  *  *  *  *  *  *  *  * #######\n",
      "###### *  *  *  *  *  *  *  *  *  *  * ######\n",
      "##### *  *  *  *  *  *  *  *  *  *  *  * ####\n",
      "### *  *  *  *  *  *  *  *  *  *  *  *  * ###\n",
      "## *  *  *  *  *  *  *  *  *  *  *  *  *  * #\n"
     ]
    }
   ],
   "source": [
    "for i in range(1,15):\n",
    "    print((i * ' * ').center(45 , '#'))"
   ]
  },
  {
   "cell_type": "code",
   "execution_count": 47,
   "metadata": {},
   "outputs": [
    {
     "name": "stdout",
     "output_type": "stream",
     "text": [
      "_____________________ * _____________________\n",
      "____________________ *  * ___________________\n",
      "__________________ *  *  * __________________\n",
      "_________________ *  *  *  * ________________\n",
      "_______________ *  *  *  *  * _______________\n",
      "______________ *  *  *  *  *  * _____________\n",
      "____________ *  *  *  *  *  *  * ____________\n",
      "___________ *  *  *  *  *  *  *  * __________\n",
      "_________ *  *  *  *  *  *  *  *  * _________\n",
      "________ *  *  *  *  *  *  *  *  *  * _______\n",
      "______ *  *  *  *  *  *  *  *  *  *  * ______\n",
      "_____ *  *  *  *  *  *  *  *  *  *  *  * ____\n",
      "___ *  *  *  *  *  *  *  *  *  *  *  *  * ___\n",
      "__ *  *  *  *  *  *  *  *  *  *  *  *  *  * _\n"
     ]
    }
   ],
   "source": [
    "for i in range(1,15):\n",
    "    print((i * ' * ').center(45 , '_'))"
   ]
  },
  {
   "cell_type": "code",
   "execution_count": 4,
   "metadata": {},
   "outputs": [
    {
     "name": "stdout",
     "output_type": "stream",
     "text": [
      "--------------------- * ---------------------\n",
      "----------------- O  O  O  O ----------------\n",
      "--------------- *  *  *  *  * ---------------\n",
      "------------ O  O  O  O  O  O  O ------------\n",
      "--------- *  *  *  *  *  *  *  *  * ---------\n",
      "------ O  O  O  O  O  O  O  O  O  O  O ------\n",
      "--- *  *  *  *  *  *  *  *  *  *  *  *  * ---\n"
     ]
    }
   ],
   "source": [
    "for i in range(1,15,1):\n",
    "    if (i==1 or i==5 or i==9 or i==13 ):\n",
    "        print((i * ' * ').center(45,'-'))\n",
    "    if(i==4 or i==7 or i==11):\n",
    "        print((i * ' O ').center(45,'-'))\n"
   ]
  }
 ],
 "metadata": {
  "kernelspec": {
   "display_name": "Python 3.9.12 ('base')",
   "language": "python",
   "name": "python3"
  },
  "language_info": {
   "codemirror_mode": {
    "name": "ipython",
    "version": 3
   },
   "file_extension": ".py",
   "mimetype": "text/x-python",
   "name": "python",
   "nbconvert_exporter": "python",
   "pygments_lexer": "ipython3",
   "version": "3.9.12"
  },
  "orig_nbformat": 4,
  "vscode": {
   "interpreter": {
    "hash": "5b6002d1e928962cd19dde4287e8a81266a3dfa22c12012df96bb19a6e27b9c0"
   }
  }
 },
 "nbformat": 4,
 "nbformat_minor": 2
}
