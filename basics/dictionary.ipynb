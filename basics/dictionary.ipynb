{
 "cells": [
  {
   "cell_type": "code",
   "execution_count": 1,
   "metadata": {},
   "outputs": [],
   "source": [
    "emp = ['Amita','Marwha','Faculty',2300,10000,30000,31,True,False,'IT College']"
   ]
  },
  {
   "cell_type": "code",
   "execution_count": 2,
   "metadata": {},
   "outputs": [],
   "source": [
    "emp_dict = {\n",
    "    'fname':'Amita' ,\n",
    "    'lname':'Marwha' ,\n",
    "    'dept': 'Faculty' ,\n",
    "    'age': 31 ,\n",
    "    'salary':10000 , \n",
    "    'bonus':30000 , \n",
    "    'is_faculty': True ,\n",
    "    'is_sweeper': False ,\n",
    "    'company': 'IT College'}"
   ]
  },
  {
   "cell_type": "code",
   "execution_count": 3,
   "metadata": {},
   "outputs": [
    {
     "data": {
      "text/plain": [
       "{'fname': 'Amita',\n",
       " 'lname': 'Marwha',\n",
       " 'dept': 'Faculty',\n",
       " 'age': 31,\n",
       " 'salary': 10000,\n",
       " 'bonus': 30000,\n",
       " 'is_faculty': True,\n",
       " 'is_sweeper': False,\n",
       " 'company': 'IT College'}"
      ]
     },
     "execution_count": 3,
     "metadata": {},
     "output_type": "execute_result"
    }
   ],
   "source": [
    "emp_dict"
   ]
  },
  {
   "cell_type": "code",
   "execution_count": 4,
   "metadata": {},
   "outputs": [
    {
     "name": "stdout",
     "output_type": "stream",
     "text": [
      "{'fname': 'Amita', 'lname': 'Marwha', 'dept': 'Faculty', 'age': 31, 'salary': 10000, 'bonus': 30000, 'is_faculty': True, 'is_sweeper': False, 'company': 'IT College'}\n"
     ]
    }
   ],
   "source": [
    "print(emp_dict)"
   ]
  },
  {
   "cell_type": "code",
   "execution_count": 5,
   "metadata": {},
   "outputs": [],
   "source": [
    "weather_data = {\n",
    "    'date': '2019-01-01',\n",
    "    'temp' : 32 ,\n",
    "    'details' : {\n",
    "        'humidity': 80 ,\n",
    "        'wind': 10 , \n",
    "        'pressure' :30,\n",
    "        'aqi':120},\n",
    "    'city': 'lucknow',\n",
    "    'type': 'sunshine',\n",
    "    'icon' : '🌞'\n",
    "}"
   ]
  },
  {
   "cell_type": "code",
   "execution_count": 6,
   "metadata": {},
   "outputs": [
    {
     "data": {
      "text/plain": [
       "{'date': '2019-01-01',\n",
       " 'temp': 32,\n",
       " 'details': {'humidity': 80, 'wind': 10, 'pressure': 30, 'aqi': 120},\n",
       " 'city': 'lucknow',\n",
       " 'type': 'sunshine',\n",
       " 'icon': '🌞'}"
      ]
     },
     "execution_count": 6,
     "metadata": {},
     "output_type": "execute_result"
    }
   ],
   "source": [
    "weather_data"
   ]
  },
  {
   "cell_type": "markdown",
   "metadata": {},
   "source": [
    "### Accessing data from dictionary"
   ]
  },
  {
   "cell_type": "code",
   "execution_count": 7,
   "metadata": {},
   "outputs": [
    {
     "data": {
      "text/plain": [
       "dict_keys(['date', 'temp', 'details', 'city', 'type', 'icon'])"
      ]
     },
     "execution_count": 7,
     "metadata": {},
     "output_type": "execute_result"
    }
   ],
   "source": [
    "weather_data.keys()          "
   ]
  },
  {
   "cell_type": "code",
   "execution_count": 8,
   "metadata": {},
   "outputs": [
    {
     "data": {
      "text/plain": [
       "dict_values(['2019-01-01', 32, {'humidity': 80, 'wind': 10, 'pressure': 30, 'aqi': 120}, 'lucknow', 'sunshine', '🌞'])"
      ]
     },
     "execution_count": 8,
     "metadata": {},
     "output_type": "execute_result"
    }
   ],
   "source": [
    "weather_data.values()"
   ]
  },
  {
   "cell_type": "code",
   "execution_count": 9,
   "metadata": {},
   "outputs": [
    {
     "data": {
      "text/plain": [
       "dict_keys(['fname', 'lname', 'dept', 'age', 'salary', 'bonus', 'is_faculty', 'is_sweeper', 'company'])"
      ]
     },
     "execution_count": 9,
     "metadata": {},
     "output_type": "execute_result"
    }
   ],
   "source": [
    "emp_dict.keys()"
   ]
  },
  {
   "cell_type": "code",
   "execution_count": 10,
   "metadata": {},
   "outputs": [
    {
     "data": {
      "text/plain": [
       "['date', 'temp', 'details', 'city', 'type', 'icon']"
      ]
     },
     "execution_count": 10,
     "metadata": {},
     "output_type": "execute_result"
    }
   ],
   "source": [
    "list(weather_data.keys())"
   ]
  },
  {
   "cell_type": "code",
   "execution_count": 11,
   "metadata": {},
   "outputs": [
    {
     "data": {
      "text/plain": [
       "['2019-01-01',\n",
       " 32,\n",
       " {'humidity': 80, 'wind': 10, 'pressure': 30, 'aqi': 120},\n",
       " 'lucknow',\n",
       " 'sunshine',\n",
       " '🌞']"
      ]
     },
     "execution_count": 11,
     "metadata": {},
     "output_type": "execute_result"
    }
   ],
   "source": [
    "list(weather_data.values())"
   ]
  },
  {
   "cell_type": "code",
   "execution_count": 12,
   "metadata": {},
   "outputs": [
    {
     "data": {
      "text/plain": [
       "['fname',\n",
       " 'lname',\n",
       " 'dept',\n",
       " 'age',\n",
       " 'salary',\n",
       " 'bonus',\n",
       " 'is_faculty',\n",
       " 'is_sweeper',\n",
       " 'company']"
      ]
     },
     "execution_count": 12,
     "metadata": {},
     "output_type": "execute_result"
    }
   ],
   "source": [
    "list(emp_dict.keys())"
   ]
  },
  {
   "cell_type": "code",
   "execution_count": 13,
   "metadata": {},
   "outputs": [
    {
     "data": {
      "text/plain": [
       "32"
      ]
     },
     "execution_count": 13,
     "metadata": {},
     "output_type": "execute_result"
    }
   ],
   "source": [
    "weather_data['temp']"
   ]
  },
  {
   "cell_type": "code",
   "execution_count": 14,
   "metadata": {},
   "outputs": [
    {
     "data": {
      "text/plain": [
       "'lucknow'"
      ]
     },
     "execution_count": 14,
     "metadata": {},
     "output_type": "execute_result"
    }
   ],
   "source": [
    "weather_data['city']"
   ]
  },
  {
   "cell_type": "code",
   "execution_count": 15,
   "metadata": {},
   "outputs": [
    {
     "data": {
      "text/plain": [
       "32"
      ]
     },
     "execution_count": 15,
     "metadata": {},
     "output_type": "execute_result"
    }
   ],
   "source": [
    "weather_data.get('temp')                    # another way of accessing data and a better one"
   ]
  },
  {
   "cell_type": "code",
   "execution_count": 16,
   "metadata": {},
   "outputs": [],
   "source": [
    "weather_data.get('location')"
   ]
  },
  {
   "cell_type": "code",
   "execution_count": 17,
   "metadata": {},
   "outputs": [
    {
     "data": {
      "text/plain": [
       "'lucknow'"
      ]
     },
     "execution_count": 17,
     "metadata": {},
     "output_type": "execute_result"
    }
   ],
   "source": [
    "weather_data.get('city','not found')                          # here , 'not found' value is default value"
   ]
  },
  {
   "cell_type": "code",
   "execution_count": 18,
   "metadata": {},
   "outputs": [
    {
     "data": {
      "text/plain": [
       "'not found'"
      ]
     },
     "execution_count": 18,
     "metadata": {},
     "output_type": "execute_result"
    }
   ],
   "source": [
    "weather_data.get('location','not found')"
   ]
  },
  {
   "cell_type": "markdown",
   "metadata": {},
   "source": [
    "### Looping over a dictionary"
   ]
  },
  {
   "cell_type": "code",
   "execution_count": 19,
   "metadata": {},
   "outputs": [
    {
     "name": "stdout",
     "output_type": "stream",
     "text": [
      "fname => Amita\n",
      "lname => Marwha\n",
      "dept => Faculty\n",
      "age => 31\n",
      "salary => 10000\n",
      "bonus => 30000\n",
      "is_faculty => True\n",
      "is_sweeper => False\n",
      "company => IT College\n"
     ]
    }
   ],
   "source": [
    "# first way\n",
    "for k in emp_dict:\n",
    "    print(k, '=>' , emp_dict[k])"
   ]
  },
  {
   "cell_type": "code",
   "execution_count": 20,
   "metadata": {},
   "outputs": [
    {
     "name": "stdout",
     "output_type": "stream",
     "text": [
      "fname => Amita\n",
      "lname => Marwha\n",
      "dept => Faculty\n",
      "age => 31\n",
      "salary => 10000\n",
      "bonus => 30000\n",
      "is_faculty => True\n",
      "is_sweeper => False\n",
      "company => IT College\n"
     ]
    }
   ],
   "source": [
    "# Second way is 'items()' function (pythonic way)\n",
    "for k,v in emp_dict.items():\n",
    "    print(k,'=>',v)"
   ]
  },
  {
   "cell_type": "markdown",
   "metadata": {},
   "source": [
    "### Updating an entry in dictionary"
   ]
  },
  {
   "cell_type": "code",
   "execution_count": 21,
   "metadata": {},
   "outputs": [],
   "source": [
    "weather_data['temp']=35"
   ]
  },
  {
   "cell_type": "code",
   "execution_count": 22,
   "metadata": {},
   "outputs": [
    {
     "data": {
      "text/plain": [
       "{'date': '2019-01-01',\n",
       " 'temp': 35,\n",
       " 'details': {'humidity': 80, 'wind': 10, 'pressure': 30, 'aqi': 120},\n",
       " 'city': 'lucknow',\n",
       " 'type': 'sunshine',\n",
       " 'icon': '🌞'}"
      ]
     },
     "execution_count": 22,
     "metadata": {},
     "output_type": "execute_result"
    }
   ],
   "source": [
    "weather_data"
   ]
  },
  {
   "cell_type": "markdown",
   "metadata": {},
   "source": [
    "### Adding data"
   ]
  },
  {
   "cell_type": "code",
   "execution_count": 23,
   "metadata": {},
   "outputs": [
    {
     "data": {
      "text/plain": [
       "{'fname': 'Amita',\n",
       " 'lname': 'Marwha',\n",
       " 'dept': 'Faculty',\n",
       " 'age': 31,\n",
       " 'salary': 10000,\n",
       " 'bonus': 30000,\n",
       " 'is_faculty': True,\n",
       " 'is_sweeper': False,\n",
       " 'company': 'IT College'}"
      ]
     },
     "execution_count": 23,
     "metadata": {},
     "output_type": "execute_result"
    }
   ],
   "source": [
    "emp_dict"
   ]
  },
  {
   "cell_type": "code",
   "execution_count": 25,
   "metadata": {},
   "outputs": [
    {
     "name": "stdout",
     "output_type": "stream",
     "text": [
      "{'fname': 'Amita', 'lname': 'Marwha', 'dept': 'Faculty', 'age': 31, 'salary': 10000, 'bonus': 30000, 'is_faculty': True, 'is_sweeper': False, 'company': 'IT College', 'designation': 'Asst A'}\n"
     ]
    }
   ],
   "source": [
    "emp_dict['designation']='Asst A'\n",
    "print(emp_dict)"
   ]
  },
  {
   "cell_type": "markdown",
   "metadata": {},
   "source": []
  },
  {
   "cell_type": "markdown",
   "metadata": {},
   "source": [
    "### Updating data"
   ]
  },
  {
   "cell_type": "code",
   "execution_count": 26,
   "metadata": {},
   "outputs": [
    {
     "name": "stdout",
     "output_type": "stream",
     "text": [
      "{'fname': 'Amita', 'lname': 'Marwha', 'dept': 'Faculty', 'age': 31, 'salary': 30000, 'bonus': 30000, 'is_faculty': True, 'is_sweeper': False, 'company': 'IT College', 'designation': 'Section Manager'}\n"
     ]
    }
   ],
   "source": [
    "emp_dict['designation']='Section Manager'\n",
    "emp_dict['salary']=30000\n",
    "print(emp_dict)"
   ]
  },
  {
   "cell_type": "markdown",
   "metadata": {},
   "source": [
    "### Remove data"
   ]
  },
  {
   "cell_type": "code",
   "execution_count": 33,
   "metadata": {},
   "outputs": [
    {
     "ename": "KeyError",
     "evalue": "'is_sweeper'",
     "output_type": "error",
     "traceback": [
      "\u001b[1;31m---------------------------------------------------------------------------\u001b[0m",
      "\u001b[1;31mKeyError\u001b[0m                                  Traceback (most recent call last)",
      "\u001b[1;32mc:\\Users\\HP\\Documents\\data\\dictionary.ipynb Cell 33\u001b[0m in \u001b[0;36m<cell line: 1>\u001b[1;34m()\u001b[0m\n\u001b[1;32m----> <a href='vscode-notebook-cell:/c%3A/Users/HP/Documents/data/dictionary.ipynb#X44sZmlsZQ%3D%3D?line=0'>1</a>\u001b[0m emp_dict\u001b[39m.\u001b[39;49mpop(\u001b[39m'\u001b[39;49m\u001b[39mis_sweeper\u001b[39;49m\u001b[39m'\u001b[39;49m)\n",
      "\u001b[1;31mKeyError\u001b[0m: 'is_sweeper'"
     ]
    }
   ],
   "source": [
    "emp_dict.pop('is_sweeper')        "
   ]
  },
  {
   "cell_type": "code",
   "execution_count": 34,
   "metadata": {},
   "outputs": [
    {
     "data": {
      "text/plain": [
       "{'fname': 'Amita',\n",
       " 'lname': 'Marwha',\n",
       " 'dept': 'Faculty',\n",
       " 'age': 31,\n",
       " 'salary': 30000,\n",
       " 'bonus': 30000,\n",
       " 'is_faculty': True,\n",
       " 'company': 'IT College',\n",
       " 'designation': 'Section Manager'}"
      ]
     },
     "execution_count": 34,
     "metadata": {},
     "output_type": "execute_result"
    }
   ],
   "source": [
    "emp_dict"
   ]
  },
  {
   "cell_type": "code",
   "execution_count": 35,
   "metadata": {},
   "outputs": [
    {
     "data": {
      "text/plain": [
       "{'fname': 'Amita',\n",
       " 'lname': 'Marwha',\n",
       " 'dept': 'Faculty',\n",
       " 'age': 31,\n",
       " 'salary': 30000,\n",
       " 'bonus': 30000,\n",
       " 'is_faculty': True,\n",
       " 'company': 'IT College',\n",
       " 'designation': 'Section Manager'}"
      ]
     },
     "execution_count": 35,
     "metadata": {},
     "output_type": "execute_result"
    }
   ],
   "source": [
    "if 'is_sweeper' in emp_dict:\n",
    "    emp_dict.pop('is_sweeper')\n",
    "emp_dict"
   ]
  },
  {
   "cell_type": "code",
   "execution_count": 36,
   "metadata": {},
   "outputs": [],
   "source": [
    "reports = {\n",
    "    '001': {\n",
    "        'name':'Amar' ,\n",
    "    'subjects' : {'English':80,'Maths':90,'Science':95}\n",
    "},\n",
    "'002':{\n",
    " 'name':'Vijay' ,\n",
    "    'subjects' : {'English':70,'Maths':60,'Science':85}   \n",
    "},\n",
    "'003':{\n",
    " 'name':'Raj' ,\n",
    "    'subjects' : {'English':60,'Maths':50,'Science':45}   \n",
    "},\n",
    "}"
   ]
  },
  {
   "cell_type": "code",
   "execution_count": 37,
   "metadata": {},
   "outputs": [
    {
     "data": {
      "text/plain": [
       "{'001': {'name': 'Amar',\n",
       "  'subjects': {'English': 80, 'Maths': 90, 'Science': 95}},\n",
       " '002': {'name': 'Vijay',\n",
       "  'subjects': {'English': 70, 'Maths': 60, 'Science': 85}},\n",
       " '003': {'name': 'Raj',\n",
       "  'subjects': {'English': 60, 'Maths': 50, 'Science': 45}}}"
      ]
     },
     "execution_count": 37,
     "metadata": {},
     "output_type": "execute_result"
    }
   ],
   "source": [
    "reports"
   ]
  },
  {
   "cell_type": "code",
   "execution_count": 56,
   "metadata": {},
   "outputs": [
    {
     "name": "stdout",
     "output_type": "stream",
     "text": [
      "roll no.: 001\n",
      "name Amar\n",
      "subjects\n",
      "English 80\n",
      "Maths 90\n",
      "Science 95\n",
      "------------------------------------------------------------\n",
      "roll no.: 002\n",
      "name Vijay\n",
      "subjects\n",
      "English 70\n",
      "Maths 60\n",
      "Science 85\n",
      "------------------------------------------------------------\n",
      "roll no.: 003\n",
      "name Raj\n",
      "subjects\n",
      "English 60\n",
      "Maths 50\n",
      "Science 45\n",
      "------------------------------------------------------------\n"
     ]
    }
   ],
   "source": [
    "for roll, data in reports.items():\n",
    "    print(\"roll no.:\",roll)\n",
    "    for key , val in data.items():\n",
    "        if isinstance(val,dict):                  # 'isinstance' function will check datatype\n",
    "            print(key)                            \n",
    "            for sub,marks in val.items():\n",
    "                print(sub, marks)\n",
    "        else:\n",
    "            print(key,val)\n",
    "    print('--'*30)"
   ]
  },
  {
   "cell_type": "code",
   "execution_count": 57,
   "metadata": {},
   "outputs": [
    {
     "name": "stdout",
     "output_type": "stream",
     "text": [
      "roll no.: 001\n",
      "name Amar\n",
      "subjects\n",
      "English 80\n",
      "Maths 90\n",
      "Science 95\n",
      "Total:265/300\n",
      "------------------------------------------------------------\n",
      "roll no.: 002\n",
      "name Vijay\n",
      "subjects\n",
      "English 70\n",
      "Maths 60\n",
      "Science 85\n",
      "Total:215/300\n",
      "------------------------------------------------------------\n",
      "roll no.: 003\n",
      "name Raj\n",
      "subjects\n",
      "English 60\n",
      "Maths 50\n",
      "Science 45\n",
      "Total:155/300\n",
      "------------------------------------------------------------\n"
     ]
    }
   ],
   "source": [
    "for roll, data in reports.items():\n",
    "    print(\"roll no.:\",roll)\n",
    "    for key , val in data.items():\n",
    "        if isinstance(val,dict):                      # 'isinstance' function will check datatype\n",
    "            print(key)\n",
    "            total = 0                            \n",
    "            for sub,marks in val.items():\n",
    "                print(sub, marks)\n",
    "                total += marks                           # add marks to total\n",
    "            print(f'Total:{total}/300')                  # display\n",
    "        else:\n",
    "            print(key,val)\n",
    "    print('--'*30)"
   ]
  },
  {
   "cell_type": "code",
   "execution_count": 61,
   "metadata": {},
   "outputs": [
    {
     "name": "stdout",
     "output_type": "stream",
     "text": [
      "roll no.: 001\n",
      "name Amar\n",
      "subjects\n",
      "English 80\n",
      "Maths 90\n",
      "Science 95\n",
      "Total:265/300\n",
      "Percentage=88.33%\n",
      "------------------------------------------------------------\n",
      "roll no.: 002\n",
      "name Vijay\n",
      "subjects\n",
      "English 70\n",
      "Maths 60\n",
      "Science 85\n",
      "Total:215/300\n",
      "Percentage=71.67%\n",
      "------------------------------------------------------------\n",
      "roll no.: 003\n",
      "name Raj\n",
      "subjects\n",
      "English 60\n",
      "Maths 50\n",
      "Science 45\n",
      "Total:155/300\n",
      "Percentage=51.67%\n",
      "------------------------------------------------------------\n"
     ]
    }
   ],
   "source": [
    "for roll, data in reports.items():\n",
    "    print(\"roll no.:\",roll)\n",
    "    for key , val in data.items():\n",
    "        if isinstance(val,dict):                      # 'isinstance' function will check datatype\n",
    "            print(key)\n",
    "            total = 0                            \n",
    "            for sub,marks in val.items():\n",
    "                print(sub, marks)\n",
    "                total += marks\n",
    "                percentage = 0                           # add marks to total\n",
    "            print(f'Total:{total}/300')                   # display\n",
    "            print(f'Percentage={total/300*100:.2f}%')      # display         \n",
    "        else:\n",
    "            print(key,val)\n",
    "    print('--'*30)"
   ]
  },
  {
   "cell_type": "markdown",
   "metadata": {},
   "source": [
    "### File handling\n",
    "   - open a file\n",
    "   - reading a file\n",
    "   - writing a file\n",
    "   - appending a file"
   ]
  },
  {
   "cell_type": "code",
   "execution_count": 64,
   "metadata": {},
   "outputs": [
    {
     "name": "stdout",
     "output_type": "stream",
     "text": [
      "<_io.TextIOWrapper name='hello.py' mode='r' encoding='cp1252'>\n"
     ]
    }
   ],
   "source": [
    "# Open a file\n",
    "f= open('hello.py')\n",
    "print(f)"
   ]
  },
  {
   "cell_type": "code",
   "execution_count": 65,
   "metadata": {},
   "outputs": [
    {
     "name": "stdout",
     "output_type": "stream",
     "text": [
      "print('hi there')\n"
     ]
    }
   ],
   "source": [
    "# Read ing a file\n",
    "f= open('hello.py')\n",
    "print(f.read())"
   ]
  },
  {
   "cell_type": "code",
   "execution_count": 68,
   "metadata": {},
   "outputs": [
    {
     "name": "stdout",
     "output_type": "stream",
     "text": [
      "0 characters\n"
     ]
    }
   ],
   "source": [
    "f= open(r'C:\\Users\\HP\\Desktop\\jyotsana.txt')                 # r is raw format which is used to\n",
    "content = f.read()\n",
    "print(f'{len(content)} characters')"
   ]
  },
  {
   "cell_type": "code",
   "execution_count": 71,
   "metadata": {},
   "outputs": [],
   "source": [
    "# Reading a file(way not to be used)\n",
    "# file =open('mydata.txt','w')\n",
    "# file.write(data)\n",
    "#file.close()"
   ]
  },
  {
   "cell_type": "code",
   "execution_count": 70,
   "metadata": {},
   "outputs": [],
   "source": [
    "# Reading a file(better way)\n",
    "data = 'hi everyone, this is a sample file'\n",
    "with open('mydata.txt', 'w') as file:\n",
    "    file.write(data)"
   ]
  },
  {
   "cell_type": "code",
   "execution_count": 72,
   "metadata": {},
   "outputs": [],
   "source": [
    "# Appending a file(\n",
    "data = '\\nthis is the new data that is going to be written'\n",
    "with open('mydata.txt', 'a') as file:\n",
    "    file.write(data)"
   ]
  },
  {
   "cell_type": "code",
   "execution_count": 73,
   "metadata": {},
   "outputs": [
    {
     "data": {
      "text/plain": [
       "'\\nthis is the new data that is going to be written'"
      ]
     },
     "execution_count": 73,
     "metadata": {},
     "output_type": "execute_result"
    }
   ],
   "source": [
    "data"
   ]
  },
  {
   "cell_type": "code",
   "execution_count": 75,
   "metadata": {},
   "outputs": [
    {
     "name": "stdout",
     "output_type": "stream",
     "text": [
      "Filebio.txtsaved\n"
     ]
    }
   ],
   "source": [
    "file = 'bio.txt'\n",
    "content = ''\n",
    "\n",
    "while True:\n",
    "    line = input('Enter a line(or q to quit):')\n",
    "    if line == 'q':\n",
    "        break\n",
    "    content += line +'\\n'\n",
    "\n",
    "with open(file,'w') as f:\n",
    "    f.write(content)\n",
    "    print(f'File{file}saved')"
   ]
  },
  {
   "cell_type": "code",
   "execution_count": null,
   "metadata": {},
   "outputs": [],
   "source": []
  }
 ],
 "metadata": {
  "kernelspec": {
   "display_name": "Python 3.9.12 ('base')",
   "language": "python",
   "name": "python3"
  },
  "language_info": {
   "codemirror_mode": {
    "name": "ipython",
    "version": 3
   },
   "file_extension": ".py",
   "mimetype": "text/x-python",
   "name": "python",
   "nbconvert_exporter": "python",
   "pygments_lexer": "ipython3",
   "version": "3.9.12"
  },
  "orig_nbformat": 4,
  "vscode": {
   "interpreter": {
    "hash": "5b6002d1e928962cd19dde4287e8a81266a3dfa22c12012df96bb19a6e27b9c0"
   }
  }
 },
 "nbformat": 4,
 "nbformat_minor": 2
}
