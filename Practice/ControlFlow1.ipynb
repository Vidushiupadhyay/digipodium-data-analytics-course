{
 "cells": [
  {
   "attachments": {},
   "cell_type": "markdown",
   "metadata": {},
   "source": [
    "# Building Logic with if"
   ]
  },
  {
   "cell_type": "code",
   "execution_count": 3,
   "metadata": {},
   "outputs": [
    {
     "name": "stdout",
     "output_type": "stream",
     "text": [
      "You see a apple seller\n",
      "Purchase 2 kg of apple\n"
     ]
    }
   ],
   "source": [
    "print('You see a apple seller')\n",
    "q= input('Do you like apples?')\n",
    "\n",
    "if q == 'yes':\n",
    "    print('Purchase 2 kg of apple')\n",
    "if q == 'no' :\n",
    "    print(\"You don't purchase apples\")"
   ]
  },
  {
   "cell_type": "code",
   "execution_count": 10,
   "metadata": {},
   "outputs": [
    {
     "name": "stdout",
     "output_type": "stream",
     "text": [
      "x is greater than y\n",
      "y is smaller than x\n",
      "y is smaller than 6 also\n",
      "why y is smaller\n",
      "15\n"
     ]
    }
   ],
   "source": [
    "x = 10\n",
    "y = 5\n",
    "if x>y:\n",
    "    print('x is greater than y')\n",
    "    print('y is smaller than x')\n",
    "if y<6:\n",
    "    print('y is smaller than 6 also')\n",
    "    print('why y is smaller')\n",
    "if y==3:\n",
    "    print('x is 3')\n",
    "    print('Its time to make y greater')\n",
    "y = x + y\n",
    "print(y)"
   ]
  },
  {
   "attachments": {},
   "cell_type": "markdown",
   "metadata": {},
   "source": [
    "# Building Logic with if else"
   ]
  },
  {
   "cell_type": "code",
   "execution_count": 18,
   "metadata": {},
   "outputs": [
    {
     "name": "stdout",
     "output_type": "stream",
     "text": [
      "65.0\n",
      "Wear long pants.\n",
      "Get some exercise outside\n"
     ]
    }
   ],
   "source": [
    "temp = float(input('What is the temprature?'))\n",
    "print(temp)\n",
    "if temp > 70:\n",
    "    print('Wear shorts')\n",
    "else:\n",
    "    print('Wear long pants.')\n",
    "    print('Get some exercise outside')"
   ]
  },
  {
   "cell_type": "code",
   "execution_count": 19,
   "metadata": {},
   "outputs": [
    {
     "name": "stdout",
     "output_type": "stream",
     "text": [
      "80.0\n",
      "Wear shorts\n"
     ]
    }
   ],
   "source": [
    "temp = float(input('What is the temprature?'))\n",
    "print(temp)\n",
    "if temp > 70:\n",
    "    print('Wear shorts')\n",
    "else:\n",
    "    print('Wear long pants.')\n",
    "    print('Get some exercise outside')"
   ]
  },
  {
   "attachments": {},
   "cell_type": "markdown",
   "metadata": {},
   "source": [
    "# Building Logic with if-elif-else"
   ]
  },
  {
   "cell_type": "code",
   "execution_count": 21,
   "metadata": {},
   "outputs": [
    {
     "name": "stdout",
     "output_type": "stream",
     "text": [
      "85\n",
      "B\n"
     ]
    }
   ],
   "source": [
    "score = int(input('your score ->'))\n",
    "print(score)\n",
    "if score >= 90:\n",
    "    letter='A'\n",
    "elif score >= 80:\n",
    "    letter='B'\n",
    "elif score >= 70:\n",
    "    letter='C'\n",
    "elif score >= 60:\n",
    "    letter='D'\n",
    "else:\n",
    "    letter='E'\n",
    "print(letter)"
   ]
  }
 ],
 "metadata": {
  "kernelspec": {
   "display_name": "Python 3.9.12 ('base')",
   "language": "python",
   "name": "python3"
  },
  "language_info": {
   "codemirror_mode": {
    "name": "ipython",
    "version": 3
   },
   "file_extension": ".py",
   "mimetype": "text/x-python",
   "name": "python",
   "nbconvert_exporter": "python",
   "pygments_lexer": "ipython3",
   "version": "3.9.12 (main, Apr  4 2022, 05:22:27) [MSC v.1916 64 bit (AMD64)]"
  },
  "orig_nbformat": 4,
  "vscode": {
   "interpreter": {
    "hash": "5b6002d1e928962cd19dde4287e8a81266a3dfa22c12012df96bb19a6e27b9c0"
   }
  }
 },
 "nbformat": 4,
 "nbformat_minor": 2
}
